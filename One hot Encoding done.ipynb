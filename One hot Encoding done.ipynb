{
 "cells": [
  {
   "cell_type": "code",
   "execution_count": 2,
   "id": "d6f940d6",
   "metadata": {},
   "outputs": [],
   "source": [
    "import numpy as np\n",
    "import pandas as pd"
   ]
  },
  {
   "cell_type": "code",
   "execution_count": 3,
   "id": "c71cf393",
   "metadata": {},
   "outputs": [],
   "source": [
    "df=pd.read_csv('scaled.csv')\n"
   ]
  },
  {
   "cell_type": "code",
   "execution_count": 4,
   "id": "33cf87d2",
   "metadata": {},
   "outputs": [
    {
     "data": {
      "text/plain": [
       "Index(['Unnamed: 0', 'distance', 'avg_travel_time', 'temp', 'clouds',\n",
       "       'pressure', 'rain', 'humidity', 'wind', 'distance.1', 'cab_type',\n",
       "       'time_stamp', 'destination', 'source', 'price', 'surge_multiplier',\n",
       "       'id', 'product_id', 'name', 'date_time', 'date', 'day', 'hour',\n",
       "       'fare_per_mile', 'class_hour', 'new_price', 'traveling_time',\n",
       "       'max_travel_time', 'min_travel_time', 'avg_travel_time.1', 'merge_date',\n",
       "       'temp.1', 'clouds.1', 'pressure.1', 'rain.1', 'humidity.1', 'wind.1'],\n",
       "      dtype='object')"
      ]
     },
     "execution_count": 4,
     "metadata": {},
     "output_type": "execute_result"
    }
   ],
   "source": [
    "df.columns"
   ]
  },
  {
   "cell_type": "code",
   "execution_count": 5,
   "id": "4463c8bb",
   "metadata": {},
   "outputs": [],
   "source": [
    "df.drop(['Unnamed: 0'],axis=1,inplace=True)\n"
   ]
  },
  {
   "cell_type": "code",
   "execution_count": 6,
   "id": "9f5f0843",
   "metadata": {},
   "outputs": [
    {
     "data": {
      "text/plain": [
       "array(['Lyft', 'Uber'], dtype=object)"
      ]
     },
     "execution_count": 6,
     "metadata": {},
     "output_type": "execute_result"
    }
   ],
   "source": [
    "df['cab_type'].unique()"
   ]
  },
  {
   "cell_type": "code",
   "execution_count": 10,
   "id": "f40f9770",
   "metadata": {},
   "outputs": [],
   "source": [
    "one_hot_encoded_data = pd.get_dummies(df, columns = ['cab_type', 'name','surge_multiplier','day','class_hour'])\n",
    "\n"
   ]
  },
  {
   "cell_type": "code",
   "execution_count": 12,
   "id": "96ebe98c",
   "metadata": {},
   "outputs": [],
   "source": [
    "one_hot_encoded_data.to_csv('encoded_data.csv')\n"
   ]
  },
  {
   "cell_type": "code",
   "execution_count": null,
   "id": "54e54914",
   "metadata": {},
   "outputs": [],
   "source": []
  }
 ],
 "metadata": {
  "kernelspec": {
   "display_name": "Python 3 (ipykernel)",
   "language": "python",
   "name": "python3"
  },
  "language_info": {
   "codemirror_mode": {
    "name": "ipython",
    "version": 3
   },
   "file_extension": ".py",
   "mimetype": "text/x-python",
   "name": "python",
   "nbconvert_exporter": "python",
   "pygments_lexer": "ipython3",
   "version": "3.9.2"
  }
 },
 "nbformat": 4,
 "nbformat_minor": 5
}
