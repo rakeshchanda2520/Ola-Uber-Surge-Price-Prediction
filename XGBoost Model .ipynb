{
 "cells": [
  {
   "cell_type": "markdown",
   "id": "013faa2c",
   "metadata": {},
   "source": [
    "### Import Packages"
   ]
  },
  {
   "cell_type": "code",
   "execution_count": 1,
   "id": "6b0b0521",
   "metadata": {},
   "outputs": [
    {
     "name": "stdout",
     "output_type": "stream",
     "text": [
      "libraries imported successfully\n"
     ]
    }
   ],
   "source": [
    "import pandas as pd\n",
    "import numpy as np\n",
    "\n",
    "import matplotlib.pyplot as plt\n",
    "plt.style.use('fivethirtyeight')\n",
    "%matplotlib inline\n",
    "import seaborn as sns\n",
    "print(\"libraries imported successfully\")"
   ]
  },
  {
   "cell_type": "markdown",
   "id": "2f4bdd54",
   "metadata": {},
   "source": [
    "### Get The Data"
   ]
  },
  {
   "cell_type": "code",
   "execution_count": 2,
   "id": "1cddf529",
   "metadata": {},
   "outputs": [],
   "source": [
    "datatype={'fare_amount':'float64','pickup_datetime':'object', 'pickup_longitude':'float64', 'pickup_latitude':'float64',\n",
    "       'dropoff_longitude':'float64', 'dropoff_latitude':'float64', 'passenger_count':'int64'}"
   ]
  },
  {
   "cell_type": "code",
   "execution_count": 3,
   "id": "e4c5625e",
   "metadata": {},
   "outputs": [],
   "source": [
    "df = pd.read_csv('EDA_data.csv',dtype = datatype,parse_dates=['pickup_datetime'])"
   ]
  },
  {
   "cell_type": "markdown",
   "id": "60a7db34",
   "metadata": {},
   "source": [
    "### Split The Data"
   ]
  },
  {
   "cell_type": "code",
   "execution_count": 4,
   "id": "e34b7e34",
   "metadata": {},
   "outputs": [],
   "source": [
    "X= df.drop(['fare_amount','pickup_datetime','Unnamed: 0'],axis=1)\n",
    "Y= df[['fare_amount']]"
   ]
  },
  {
   "cell_type": "code",
   "execution_count": 5,
   "id": "f5852f21",
   "metadata": {},
   "outputs": [
    {
     "data": {
      "text/plain": [
       "(Index(['pickup_longitude', 'pickup_latitude', 'dropoff_longitude',\n",
       "        'dropoff_latitude', 'passenger_count', 'year', 'month', 'day',\n",
       "        'weekday', 'pickup_datetime_hour', 'distance_km'],\n",
       "       dtype='object'),\n",
       " Index(['fare_amount'], dtype='object'))"
      ]
     },
     "execution_count": 5,
     "metadata": {},
     "output_type": "execute_result"
    }
   ],
   "source": [
    "X.columns,Y.columns"
   ]
  },
  {
   "cell_type": "code",
   "execution_count": 6,
   "id": "279ba4c6",
   "metadata": {},
   "outputs": [
    {
     "data": {
      "text/plain": [
       "((4387714, 11), (1880449, 11), (4387714, 1), (1880449, 1))"
      ]
     },
     "execution_count": 6,
     "metadata": {},
     "output_type": "execute_result"
    }
   ],
   "source": [
    "from sklearn.model_selection import train_test_split\n",
    "\n",
    "X_train,X_test,Y_train,Y_test = train_test_split(X,Y, test_size=0.3, random_state=21)\n",
    "X_train.shape,X_test.shape,Y_train.shape,Y_test.shape"
   ]
  },
  {
   "cell_type": "markdown",
   "id": "5c8cd2c4",
   "metadata": {},
   "source": [
    "### Build The Model"
   ]
  },
  {
   "cell_type": "code",
   "execution_count": 7,
   "id": "ac46e706",
   "metadata": {},
   "outputs": [],
   "source": [
    "from sklearn.metrics import mean_absolute_error\n",
    "from sklearn.metrics import mean_squared_error\n",
    "from sklearn.metrics import r2_score"
   ]
  },
  {
   "cell_type": "code",
   "execution_count": 8,
   "id": "a0a49ddf",
   "metadata": {},
   "outputs": [],
   "source": [
    "def eval_fun(model,X_train,Y_train,Y_test,X_test):\n",
    "\n",
    "    Y_pred_train = model.predict(X_train)\n",
    "    Y_pred_test = model.predict(X_test)\n",
    "    \n",
    "    r2_train = r2_score(Y_train,Y_pred_train)\n",
    "    mse_train = mean_squared_error(Y_train,Y_pred_train)\n",
    "    mae_train = mean_absolute_error(Y_train,Y_pred_train)\n",
    "    print(f\"r2_train_score ==> {r2_train} , mse_train_score ==> {mse_train} , mae_train_score ==> {mae_train}\")\n",
    "  \n",
    "    r2_test = r2_score(Y_test,Y_pred_test)\n",
    "    mse_test = mean_squared_error(Y_test,Y_pred_test)\n",
    "    mae_test = mean_absolute_error(Y_test,Y_pred_test)\n",
    "    print(f\"r2_test_score ==> {r2_test} , mse_test_score ==> {mse_test} , mae_test_score ==> {mae_test}\")"
   ]
  },
  {
   "cell_type": "code",
   "execution_count": 9,
   "id": "651aff89",
   "metadata": {},
   "outputs": [],
   "source": [
    "from xgboost import XGBRegressor \n",
    "from sklearn.model_selection import GridSearchCV\n",
    "import pickle"
   ]
  },
  {
   "cell_type": "code",
   "execution_count": 10,
   "id": "9cb60310",
   "metadata": {},
   "outputs": [],
   "source": [
    "xgb = XGBRegressor(random_state=21)"
   ]
  },
  {
   "cell_type": "code",
   "execution_count": 11,
   "id": "6c77d521",
   "metadata": {},
   "outputs": [],
   "source": [
    "param_grid = {\n",
    "'n_estimators' : [30, 50, 70],\n",
    "'max_depth' :[9,12,14],\n",
    "'learning_rate':[0.2,0.3]\n",
    "}"
   ]
  },
  {
   "cell_type": "code",
   "execution_count": 12,
   "id": "2b045bc3",
   "metadata": {},
   "outputs": [],
   "source": [
    "gscv =GridSearchCV(estimator = xgb, param_grid = param_grid, cv=2, verbose=2)"
   ]
  },
  {
   "cell_type": "code",
   "execution_count": 13,
   "id": "035002e0",
   "metadata": {},
   "outputs": [
    {
     "name": "stdout",
     "output_type": "stream",
     "text": [
      "Fitting 2 folds for each of 18 candidates, totalling 36 fits\n",
      "[CV] END ....learning_rate=0.2, max_depth=9, n_estimators=30; total time= 2.6min\n",
      "[CV] END ....learning_rate=0.2, max_depth=9, n_estimators=30; total time= 2.6min\n",
      "[CV] END ....learning_rate=0.2, max_depth=9, n_estimators=50; total time= 4.3min\n",
      "[CV] END ....learning_rate=0.2, max_depth=9, n_estimators=50; total time= 4.4min\n",
      "[CV] END ....learning_rate=0.2, max_depth=9, n_estimators=70; total time= 6.0min\n",
      "[CV] END ....learning_rate=0.2, max_depth=9, n_estimators=70; total time= 5.9min\n",
      "[CV] END ...learning_rate=0.2, max_depth=12, n_estimators=30; total time= 3.7min\n",
      "[CV] END ...learning_rate=0.2, max_depth=12, n_estimators=30; total time= 3.8min\n",
      "[CV] END ...learning_rate=0.2, max_depth=12, n_estimators=50; total time= 6.5min\n",
      "[CV] END ...learning_rate=0.2, max_depth=12, n_estimators=50; total time= 6.5min\n",
      "[CV] END ...learning_rate=0.2, max_depth=12, n_estimators=70; total time= 9.0min\n",
      "[CV] END ...learning_rate=0.2, max_depth=12, n_estimators=70; total time= 8.9min\n",
      "[CV] END ...learning_rate=0.2, max_depth=14, n_estimators=30; total time= 4.8min\n",
      "[CV] END ...learning_rate=0.2, max_depth=14, n_estimators=30; total time= 4.8min\n",
      "[CV] END ...learning_rate=0.2, max_depth=14, n_estimators=50; total time= 7.9min\n",
      "[CV] END ...learning_rate=0.2, max_depth=14, n_estimators=50; total time= 8.2min\n",
      "[CV] END ...learning_rate=0.2, max_depth=14, n_estimators=70; total time=11.1min\n",
      "[CV] END ...learning_rate=0.2, max_depth=14, n_estimators=70; total time=10.9min\n",
      "[CV] END ....learning_rate=0.3, max_depth=9, n_estimators=30; total time= 2.7min\n",
      "[CV] END ....learning_rate=0.3, max_depth=9, n_estimators=30; total time= 2.7min\n",
      "[CV] END ....learning_rate=0.3, max_depth=9, n_estimators=50; total time= 4.5min\n",
      "[CV] END ....learning_rate=0.3, max_depth=9, n_estimators=50; total time= 4.6min\n",
      "[CV] END ....learning_rate=0.3, max_depth=9, n_estimators=70; total time= 6.3min\n",
      "[CV] END ....learning_rate=0.3, max_depth=9, n_estimators=70; total time= 6.2min\n",
      "[CV] END ...learning_rate=0.3, max_depth=12, n_estimators=30; total time= 3.9min\n",
      "[CV] END ...learning_rate=0.3, max_depth=12, n_estimators=30; total time= 3.9min\n",
      "[CV] END ...learning_rate=0.3, max_depth=12, n_estimators=50; total time= 6.4min\n",
      "[CV] END ...learning_rate=0.3, max_depth=12, n_estimators=50; total time= 6.4min\n",
      "[CV] END ...learning_rate=0.3, max_depth=12, n_estimators=70; total time= 8.9min\n",
      "[CV] END ...learning_rate=0.3, max_depth=12, n_estimators=70; total time= 8.8min\n",
      "[CV] END ...learning_rate=0.3, max_depth=14, n_estimators=30; total time= 4.8min\n",
      "[CV] END ...learning_rate=0.3, max_depth=14, n_estimators=30; total time= 5.4min\n",
      "[CV] END ...learning_rate=0.3, max_depth=14, n_estimators=50; total time= 9.8min\n",
      "[CV] END ...learning_rate=0.3, max_depth=14, n_estimators=50; total time= 9.4min\n",
      "[CV] END ...learning_rate=0.3, max_depth=14, n_estimators=70; total time=11.7min\n",
      "[CV] END ...learning_rate=0.3, max_depth=14, n_estimators=70; total time=10.8min\n"
     ]
    },
    {
     "data": {
      "text/plain": [
       "{'learning_rate': 0.2, 'max_depth': 14, 'n_estimators': 70}"
      ]
     },
     "execution_count": 13,
     "metadata": {},
     "output_type": "execute_result"
    }
   ],
   "source": [
    "gscv.fit(X_train,Y_train)\n",
    "gscv.best_params_"
   ]
  },
  {
   "cell_type": "code",
   "execution_count": 19,
   "id": "1bfe2b3c",
   "metadata": {},
   "outputs": [],
   "source": [
    "xgb = XGBRegressor(random_state=21,max_depth=14,n_estimators=70,learning_rate=0.2)"
   ]
  },
  {
   "cell_type": "code",
   "execution_count": 20,
   "id": "a8d3d240",
   "metadata": {},
   "outputs": [
    {
     "data": {
      "text/html": [
       "<style>#sk-container-id-2 {color: black;background-color: white;}#sk-container-id-2 pre{padding: 0;}#sk-container-id-2 div.sk-toggleable {background-color: white;}#sk-container-id-2 label.sk-toggleable__label {cursor: pointer;display: block;width: 100%;margin-bottom: 0;padding: 0.3em;box-sizing: border-box;text-align: center;}#sk-container-id-2 label.sk-toggleable__label-arrow:before {content: \"▸\";float: left;margin-right: 0.25em;color: #696969;}#sk-container-id-2 label.sk-toggleable__label-arrow:hover:before {color: black;}#sk-container-id-2 div.sk-estimator:hover label.sk-toggleable__label-arrow:before {color: black;}#sk-container-id-2 div.sk-toggleable__content {max-height: 0;max-width: 0;overflow: hidden;text-align: left;background-color: #f0f8ff;}#sk-container-id-2 div.sk-toggleable__content pre {margin: 0.2em;color: black;border-radius: 0.25em;background-color: #f0f8ff;}#sk-container-id-2 input.sk-toggleable__control:checked~div.sk-toggleable__content {max-height: 200px;max-width: 100%;overflow: auto;}#sk-container-id-2 input.sk-toggleable__control:checked~label.sk-toggleable__label-arrow:before {content: \"▾\";}#sk-container-id-2 div.sk-estimator input.sk-toggleable__control:checked~label.sk-toggleable__label {background-color: #d4ebff;}#sk-container-id-2 div.sk-label input.sk-toggleable__control:checked~label.sk-toggleable__label {background-color: #d4ebff;}#sk-container-id-2 input.sk-hidden--visually {border: 0;clip: rect(1px 1px 1px 1px);clip: rect(1px, 1px, 1px, 1px);height: 1px;margin: -1px;overflow: hidden;padding: 0;position: absolute;width: 1px;}#sk-container-id-2 div.sk-estimator {font-family: monospace;background-color: #f0f8ff;border: 1px dotted black;border-radius: 0.25em;box-sizing: border-box;margin-bottom: 0.5em;}#sk-container-id-2 div.sk-estimator:hover {background-color: #d4ebff;}#sk-container-id-2 div.sk-parallel-item::after {content: \"\";width: 100%;border-bottom: 1px solid gray;flex-grow: 1;}#sk-container-id-2 div.sk-label:hover label.sk-toggleable__label {background-color: #d4ebff;}#sk-container-id-2 div.sk-serial::before {content: \"\";position: absolute;border-left: 1px solid gray;box-sizing: border-box;top: 0;bottom: 0;left: 50%;z-index: 0;}#sk-container-id-2 div.sk-serial {display: flex;flex-direction: column;align-items: center;background-color: white;padding-right: 0.2em;padding-left: 0.2em;position: relative;}#sk-container-id-2 div.sk-item {position: relative;z-index: 1;}#sk-container-id-2 div.sk-parallel {display: flex;align-items: stretch;justify-content: center;background-color: white;position: relative;}#sk-container-id-2 div.sk-item::before, #sk-container-id-2 div.sk-parallel-item::before {content: \"\";position: absolute;border-left: 1px solid gray;box-sizing: border-box;top: 0;bottom: 0;left: 50%;z-index: -1;}#sk-container-id-2 div.sk-parallel-item {display: flex;flex-direction: column;z-index: 1;position: relative;background-color: white;}#sk-container-id-2 div.sk-parallel-item:first-child::after {align-self: flex-end;width: 50%;}#sk-container-id-2 div.sk-parallel-item:last-child::after {align-self: flex-start;width: 50%;}#sk-container-id-2 div.sk-parallel-item:only-child::after {width: 0;}#sk-container-id-2 div.sk-dashed-wrapped {border: 1px dashed gray;margin: 0 0.4em 0.5em 0.4em;box-sizing: border-box;padding-bottom: 0.4em;background-color: white;}#sk-container-id-2 div.sk-label label {font-family: monospace;font-weight: bold;display: inline-block;line-height: 1.2em;}#sk-container-id-2 div.sk-label-container {text-align: center;}#sk-container-id-2 div.sk-container {/* jupyter's `normalize.less` sets `[hidden] { display: none; }` but bootstrap.min.css set `[hidden] { display: none !important; }` so we also need the `!important` here to be able to override the default hidden behavior on the sphinx rendered scikit-learn.org. See: https://github.com/scikit-learn/scikit-learn/issues/21755 */display: inline-block !important;position: relative;}#sk-container-id-2 div.sk-text-repr-fallback {display: none;}</style><div id=\"sk-container-id-2\" class=\"sk-top-container\"><div class=\"sk-text-repr-fallback\"><pre>XGBRegressor(base_score=0.5, booster=&#x27;gbtree&#x27;, callbacks=None,\n",
       "             colsample_bylevel=1, colsample_bynode=1, colsample_bytree=1,\n",
       "             early_stopping_rounds=None, enable_categorical=False,\n",
       "             eval_metric=None, feature_types=None, gamma=0, gpu_id=-1,\n",
       "             grow_policy=&#x27;depthwise&#x27;, importance_type=None,\n",
       "             interaction_constraints=&#x27;&#x27;, learning_rate=0.2, max_bin=256,\n",
       "             max_cat_threshold=64, max_cat_to_onehot=4, max_delta_step=0,\n",
       "             max_depth=14, max_leaves=0, min_child_weight=1, missing=nan,\n",
       "             monotone_constraints=&#x27;()&#x27;, n_estimators=70, n_jobs=0,\n",
       "             num_parallel_tree=1, predictor=&#x27;auto&#x27;, random_state=21, ...)</pre><b>In a Jupyter environment, please rerun this cell to show the HTML representation or trust the notebook. <br />On GitHub, the HTML representation is unable to render, please try loading this page with nbviewer.org.</b></div><div class=\"sk-container\" hidden><div class=\"sk-item\"><div class=\"sk-estimator sk-toggleable\"><input class=\"sk-toggleable__control sk-hidden--visually\" id=\"sk-estimator-id-2\" type=\"checkbox\" checked><label for=\"sk-estimator-id-2\" class=\"sk-toggleable__label sk-toggleable__label-arrow\">XGBRegressor</label><div class=\"sk-toggleable__content\"><pre>XGBRegressor(base_score=0.5, booster=&#x27;gbtree&#x27;, callbacks=None,\n",
       "             colsample_bylevel=1, colsample_bynode=1, colsample_bytree=1,\n",
       "             early_stopping_rounds=None, enable_categorical=False,\n",
       "             eval_metric=None, feature_types=None, gamma=0, gpu_id=-1,\n",
       "             grow_policy=&#x27;depthwise&#x27;, importance_type=None,\n",
       "             interaction_constraints=&#x27;&#x27;, learning_rate=0.2, max_bin=256,\n",
       "             max_cat_threshold=64, max_cat_to_onehot=4, max_delta_step=0,\n",
       "             max_depth=14, max_leaves=0, min_child_weight=1, missing=nan,\n",
       "             monotone_constraints=&#x27;()&#x27;, n_estimators=70, n_jobs=0,\n",
       "             num_parallel_tree=1, predictor=&#x27;auto&#x27;, random_state=21, ...)</pre></div></div></div></div></div>"
      ],
      "text/plain": [
       "XGBRegressor(base_score=0.5, booster='gbtree', callbacks=None,\n",
       "             colsample_bylevel=1, colsample_bynode=1, colsample_bytree=1,\n",
       "             early_stopping_rounds=None, enable_categorical=False,\n",
       "             eval_metric=None, feature_types=None, gamma=0, gpu_id=-1,\n",
       "             grow_policy='depthwise', importance_type=None,\n",
       "             interaction_constraints='', learning_rate=0.2, max_bin=256,\n",
       "             max_cat_threshold=64, max_cat_to_onehot=4, max_delta_step=0,\n",
       "             max_depth=14, max_leaves=0, min_child_weight=1, missing=nan,\n",
       "             monotone_constraints='()', n_estimators=70, n_jobs=0,\n",
       "             num_parallel_tree=1, predictor='auto', random_state=21, ...)"
      ]
     },
     "execution_count": 20,
     "metadata": {},
     "output_type": "execute_result"
    }
   ],
   "source": [
    "xgb.fit(X_train,Y_train)"
   ]
  },
  {
   "cell_type": "code",
   "execution_count": 21,
   "id": "0eefa2aa",
   "metadata": {},
   "outputs": [
    {
     "name": "stdout",
     "output_type": "stream",
     "text": [
      "r2_train_score ==> 0.8902930646633214 , mse_train_score ==> 2.017090262870099 , mae_train_score ==> 0.9430510768125687\n",
      "r2_test_score ==> 0.8337398058112807 , mse_test_score ==> 3.0573009304849568 , mae_test_score ==> 1.1209945620620636\n"
     ]
    }
   ],
   "source": [
    "eval_fun(xgb,X_train,Y_train,Y_test,X_test)"
   ]
  },
  {
   "cell_type": "markdown",
   "id": "9bfef900",
   "metadata": {},
   "source": [
    "### Save The Model"
   ]
  },
  {
   "cell_type": "code",
   "execution_count": 22,
   "id": "8af6e3c3",
   "metadata": {},
   "outputs": [],
   "source": [
    "pickle.dump(xgb, open('xgb_model.pkl','wb'))"
   ]
  }
 ],
 "metadata": {
  "kernelspec": {
   "display_name": "Python 3 (ipykernel)",
   "language": "python",
   "name": "python3"
  },
  "language_info": {
   "codemirror_mode": {
    "name": "ipython",
    "version": 3
   },
   "file_extension": ".py",
   "mimetype": "text/x-python",
   "name": "python",
   "nbconvert_exporter": "python",
   "pygments_lexer": "ipython3",
   "version": "3.9.2"
  }
 },
 "nbformat": 4,
 "nbformat_minor": 5
}
